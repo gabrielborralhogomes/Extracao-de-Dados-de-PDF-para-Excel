{
 "cells": [
  {
   "cell_type": "code",
   "execution_count": 1,
   "id": "ed83efda-422e-443d-b8b5-a0f87fa768d9",
   "metadata": {},
   "outputs": [],
   "source": [
    "import pdfplumber\n",
    "import pandas as pd\n",
    "\n",
    "# Carrega o arquivo PDF\n",
    "file_path = \"Teste_Python.pdf\""
   ]
  },
  {
   "cell_type": "code",
   "execution_count": 3,
   "id": "ded0f352-507e-4aa5-a2b2-2bf9b2b9258a",
   "metadata": {},
   "outputs": [],
   "source": [
    "# Ajusta as configurações do pandas para exibir todas as linhas e colunas\n",
    "pd.set_option('display.max_rows', None)  # Mostrar todas as linhas\n",
    "pd.set_option('display.max_columns', None)  # Mostrar todas as colunas\n",
    "pd.set_option('display.expand_frame_repr', False)  # Não quebrar a linha do DataFrame"
   ]
  },
  {
   "cell_type": "code",
   "execution_count": null,
   "id": "2e26242e-277c-43e8-b096-b87fb2def328",
   "metadata": {},
   "outputs": [],
   "source": [
    "data = []\n",
    "\n",
    "# Abre o PDF com pdfplumber\n",
    "with pdfplumber.open(file_path) as pdf:\n",
    "    # Itera sobre todas as páginas\n",
    "    for page in pdf.pages:\n",
    "        text = page.extract_text().split('\\n')\n",
    "        \n",
    "        # Filtra as linhas relevantes para as colunas desejadas\n",
    "        for line in text:\n",
    "            # Verifica se a linha tem os dados que precisamos. O 0101 evita a leitura de outras linhas que não são Trabalhadores\n",
    "            if (\"Rescis\" in line or \"Verba Indeniza\" in line or \"Multa R\" in line or \"Mensal\" in line) and \"0101\" in line: \n",
    "                print(f\"Linha lida: {line}\")  # Imprime a linha lida que será processada\n",
    "                \n",
    "                parts = line.split()\n",
    "                \n",
    "                # Comp. Apuração\n",
    "                comp_apuracao = parts[0]\n",
    "                \n",
    "                # Encontra os índices para nome, CPF e total\n",
    "                indice_inicial = 3\n",
    "                indice_numerico = 0\n",
    "                indice_maxalfa = 0\n",
    "                \n",
    "                # Percorre o array a partir do índice 3 até encontrar o primeiro elemento não alfanumérico\n",
    "                for i in range(indice_inicial, len(parts)):\n",
    "                    if parts[i].isnumeric():\n",
    "                        indice_numerico = i\n",
    "                        indice_maxalfa = i - 1\n",
    "                        break\n",
    "                \n",
    "                # Nome Trabalhador (junta partes em uma string)\n",
    "                nome_trabalhador = \" \".join(parts[1:indice_maxalfa + 1])  # +1 para incluir o último elemento alfabético\n",
    "                \n",
    "                # CPF e Total (apenas os 11 primeiros números)\n",
    "                cpf = parts[indice_numerico][:11]  # Pega apenas os 11 primeiros caracteres do CPF\n",
    "                total = parts[-1]\n",
    "\n",
    "                # Adiciona os dados extraídos à lista\n",
    "                data.append([comp_apuracao, nome_trabalhador, cpf, total])\n",
    "                \n",
    "                # Imprime os dados extraídos para confirmação\n",
    "                print(f\"Dados extraídos: Comp. Apuração: {comp_apuracao}, Nome: {nome_trabalhador}, CPF: {cpf}, Total: {total}\")\n",
    "\n",
    "# Cria um DataFrame com os dados extraídos\n",
    "df_extracted = pd.DataFrame(data, columns=[\"Comp.Apuração\", \"Nome Trabalhador\", \"CPF\", \"Total\"])"
   ]
  },
  {
   "cell_type": "code",
   "execution_count": 9,
   "id": "6abb13d3-2c1b-4a39-991e-343379b4276d",
   "metadata": {},
   "outputs": [],
   "source": [
    "# Salvar Total como float e não string\n",
    "df_extracted['Total'] = df_extracted['Total'].str.replace(',', '.').astype(float)"
   ]
  },
  {
   "cell_type": "code",
   "execution_count": 19,
   "id": "711ede68-614f-4b40-8613-be32cfd8a9ff",
   "metadata": {},
   "outputs": [],
   "source": [
    "# Salva o DataFrame em um arquivo Excel\n",
    "output_file = \"Trabalhadores_FGTS.xlsx\"\n",
    "df_extracted.to_excel(output_file, index=False)"
   ]
  },
  {
   "cell_type": "code",
   "execution_count": null,
   "id": "696f1831-9b43-4c68-b380-df71554e272b",
   "metadata": {},
   "outputs": [],
   "source": []
  }
 ],
 "metadata": {
  "kernelspec": {
   "display_name": "Python 3 (ipykernel)",
   "language": "python",
   "name": "python3"
  },
  "language_info": {
   "codemirror_mode": {
    "name": "ipython",
    "version": 3
   },
   "file_extension": ".py",
   "mimetype": "text/x-python",
   "name": "python",
   "nbconvert_exporter": "python",
   "pygments_lexer": "ipython3",
   "version": "3.11.9"
  }
 },
 "nbformat": 4,
 "nbformat_minor": 5
}
